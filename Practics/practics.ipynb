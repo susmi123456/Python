{
 "cells": [
  {
   "cell_type": "code",
   "execution_count": 1,
   "id": "f95cd9ac-68db-4959-93ef-8e69f368fdaa",
   "metadata": {},
   "outputs": [
    {
     "ename": "NameError",
     "evalue": "name 'outer' is not defined",
     "output_type": "error",
     "traceback": [
      "\u001b[1;31m---------------------------------------------------------------------------\u001b[0m",
      "\u001b[1;31mNameError\u001b[0m                                 Traceback (most recent call last)",
      "Cell \u001b[1;32mIn[1], line 3\u001b[0m\n\u001b[0;32m      1\u001b[0m \u001b[38;5;28;01mdef\u001b[39;00m \u001b[38;5;21madd\u001b[39m():\n\u001b[0;32m      2\u001b[0m     \u001b[38;5;28mprint\u001b[39m(\u001b[38;5;124m\"\u001b[39m\u001b[38;5;124minside outer function\u001b[39m\u001b[38;5;124m\"\u001b[39m)\n\u001b[1;32m----> 3\u001b[0m \u001b[43mouter\u001b[49m()\n",
      "\u001b[1;31mNameError\u001b[0m: name 'outer' is not defined"
     ]
    }
   ],
   "source": [
    "def add():\n",
    "    print(\"inside outer function\")\n",
    "outer()\n"
   ]
  },
  {
   "cell_type": "code",
   "execution_count": 5,
   "id": "cda2cb87-ad03-4afa-b6a1-c0e5ed8deebf",
   "metadata": {},
   "outputs": [
    {
     "name": "stdout",
     "output_type": "stream",
     "text": [
      "inside outer function\n",
      "inside inner function\n",
      "inside inner function\n"
     ]
    }
   ],
   "source": [
    "def outer():\n",
    "    print(\"inside outer function\")\n",
    "    def inner():\n",
    "        print(\"inside inner function\")\n",
    "    inner()\n",
    "    inner()\n",
    "\n",
    "outer()"
   ]
  },
  {
   "cell_type": "code",
   "execution_count": 6,
   "id": "187220ae-6c53-4e99-ae97-0764568fdb1a",
   "metadata": {},
   "outputs": [
    {
     "name": "stdout",
     "output_type": "stream",
     "text": [
      "inside outer function\n"
     ]
    }
   ],
   "source": [
    "def outer():\n",
    "    print(\"inside outer function\")\n",
    "\n",
    "outer()"
   ]
  },
  {
   "cell_type": "code",
   "execution_count": 9,
   "id": "7282991e-471a-4de7-a68e-9af1380ac074",
   "metadata": {},
   "outputs": [
    {
     "name": "stdout",
     "output_type": "stream",
     "text": [
      "10\n"
     ]
    }
   ],
   "source": [
    "def add(a,b):\n",
    "    return a+b\n",
    "print(add(4,6))"
   ]
  },
  {
   "cell_type": "code",
   "execution_count": null,
   "id": "9c71bf03-0ad1-46b4-b7db-d8159a22ffe1",
   "metadata": {},
   "outputs": [],
   "source": []
  }
 ],
 "metadata": {
  "kernelspec": {
   "display_name": "Python 3 (ipykernel)",
   "language": "python",
   "name": "python3"
  },
  "language_info": {
   "codemirror_mode": {
    "name": "ipython",
    "version": 3
   },
   "file_extension": ".py",
   "mimetype": "text/x-python",
   "name": "python",
   "nbconvert_exporter": "python",
   "pygments_lexer": "ipython3",
   "version": "3.12.7"
  }
 },
 "nbformat": 4,
 "nbformat_minor": 5
}

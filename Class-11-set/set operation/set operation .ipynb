{
 "cells": [
  {
   "cell_type": "code",
   "execution_count": 1,
   "id": "5abf23a5-fbec-405e-a2d8-e29ebda67fc4",
   "metadata": {},
   "outputs": [
    {
     "name": "stdout",
     "output_type": "stream",
     "text": [
      "{40, 10, 50, 20, 60, 30}\n",
      "{40, 10, 50, 20, 60, 30}\n"
     ]
    }
   ],
   "source": [
    "s1 = {10,20,30,40}\n",
    "s2 = {30,40,50,60}\n",
    "print(s1.union(s2))\n",
    "print(s1|s2)"
   ]
  },
  {
   "cell_type": "code",
   "execution_count": null,
   "id": "7a0eb5b3-8ece-4a5d-a3e7-481818225640",
   "metadata": {},
   "outputs": [],
   "source": []
  }
 ],
 "metadata": {
  "kernelspec": {
   "display_name": "Python 3 (ipykernel)",
   "language": "python",
   "name": "python3"
  },
  "language_info": {
   "codemirror_mode": {
    "name": "ipython",
    "version": 3
   },
   "file_extension": ".py",
   "mimetype": "text/x-python",
   "name": "python",
   "nbconvert_exporter": "python",
   "pygments_lexer": "ipython3",
   "version": "3.12.7"
  }
 },
 "nbformat": 4,
 "nbformat_minor": 5
}

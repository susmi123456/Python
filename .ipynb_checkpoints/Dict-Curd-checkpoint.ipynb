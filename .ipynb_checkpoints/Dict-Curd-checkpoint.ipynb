{
 "cells": [
  {
   "cell_type": "code",
   "execution_count": 11,
   "id": "6c16dbce-aa6d-4b59-a732-84775ab6e02a",
   "metadata": {},
   "outputs": [
    {
     "name": "stdout",
     "output_type": "stream",
     "text": [
      "{'eid': 101, 'ename': 'Rahul', 'esal': 45000, 'loc': 'Wayanad'}\n",
      "101\n",
      "Rahul\n",
      "45000\n",
      "Wayanad\n"
     ]
    }
   ],
   "source": [
    "emp={\n",
    "    'eid':101,\n",
    "    'ename':'Rahul',\n",
    "    'esal':45000,\n",
    "    'loc':'Wayanad' \n",
    "}\n",
    "print(emp)\n",
    "\n",
    "print(emp['eid'])\n",
    "print(emp['ename'])\n",
    "print(emp['esal'])\n",
    "print(emp['loc'])"
   ]
  },
  {
   "cell_type": "code",
   "execution_count": 13,
   "id": "8831f678-aee1-45fd-9ae5-d62d4281a45f",
   "metadata": {},
   "outputs": [
    {
     "name": "stdout",
     "output_type": "stream",
     "text": [
      "eid\n",
      "ename\n",
      "esal\n",
      "loc\n",
      "101\n",
      "Rahul\n",
      "45000\n",
      "Wayanad\n"
     ]
    }
   ],
   "source": [
    "emp={\n",
    "    'eid':101,\n",
    "    'ename':'Rahul',\n",
    "    'esal':45000,\n",
    "    'loc':'Wayanad' \n",
    "}\n",
    "\n",
    "#print all keys\n",
    "for key in emp.keys():\n",
    "    print(key)\n",
    "#print all values\n",
    "for value in emp.values():\n",
    "    print(value)"
   ]
  },
  {
   "cell_type": "code",
   "execution_count": 14,
   "id": "8f8abe74-24e4-4f3f-887e-a3acd9f15860",
   "metadata": {},
   "outputs": [
    {
     "name": "stdout",
     "output_type": "stream",
     "text": [
      "('eid', 101)\n",
      "('ename', 'Rahul')\n",
      "('esal', 45000)\n",
      "('loc', 'Wayanad')\n"
     ]
    }
   ],
   "source": [
    "emp={\n",
    "    'eid':101,\n",
    "    'ename':'Rahul',\n",
    "    'esal':45000,\n",
    "    'loc':'Wayanad' \n",
    "}\n",
    "#print all items\n",
    "for item in emp.items():\n",
    "    print(item)"
   ]
  },
  {
   "cell_type": "code",
   "execution_count": 15,
   "id": "eb8995ad-14b6-4dd1-a677-656606b32364",
   "metadata": {},
   "outputs": [
    {
     "name": "stdout",
     "output_type": "stream",
     "text": [
      "dict_keys(['eid', 'ename', 'esal', 'loc'])\n",
      "dict_values([101, 'Rahul', 45000.45, 'Wayanad'])\n",
      "dict_items([('eid', 101), ('ename', 'Rahul'), ('esal', 45000.45), ('loc', 'Wayanad')])\n"
     ]
    }
   ],
   "source": [
    "emp={\n",
    "    'eid':101,\n",
    "    'ename':'Rahul',\n",
    "    'esal':45000.45,\n",
    "    'loc':'Wayanad'\n",
    "}\n",
    "print(emp.keys())\n",
    "print(emp.values())\n",
    "print(emp.items())"
   ]
  },
  {
   "cell_type": "code",
   "execution_count": 16,
   "id": "7a5e4423-48dc-409a-b6e3-488a304e2c0c",
   "metadata": {},
   "outputs": [
    {
     "name": "stdout",
     "output_type": "stream",
     "text": [
      "{'eid': 101, 'ename': 'Rahul', 'esal': 45000.45}\n"
     ]
    }
   ],
   "source": [
    "emp={\n",
    "    'eid':101,\n",
    "    'ename':'Rahul',\n",
    "    'esal':45000.45,\n",
    "    'loc':'Wayanad'\n",
    "}\n",
    "emp.popitem()  #remove the last inserted key:value pair\n",
    "print(emp)"
   ]
  },
  {
   "cell_type": "code",
   "execution_count": null,
   "id": "7f2cb406-7bb8-45dd-acba-a666cbbd7227",
   "metadata": {},
   "outputs": [],
   "source": []
  }
 ],
 "metadata": {
  "kernelspec": {
   "display_name": "Python 3 (ipykernel)",
   "language": "python",
   "name": "python3"
  },
  "language_info": {
   "codemirror_mode": {
    "name": "ipython",
    "version": 3
   },
   "file_extension": ".py",
   "mimetype": "text/x-python",
   "name": "python",
   "nbconvert_exporter": "python",
   "pygments_lexer": "ipython3",
   "version": "3.12.7"
  }
 },
 "nbformat": 4,
 "nbformat_minor": 5
}
